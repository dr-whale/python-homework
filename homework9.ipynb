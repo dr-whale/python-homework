{
  "cells": [
    {
      "cell_type": "markdown",
      "metadata": {
        "id": "view-in-github",
        "colab_type": "text"
      },
      "source": [
        "<a href=\"https://colab.research.google.com/github/dr-whale/python-homework/blob/master/homework9.ipynb\" target=\"_parent\"><img src=\"https://colab.research.google.com/assets/colab-badge.svg\" alt=\"Open In Colab\"/></a>"
      ]
    },
    {
      "cell_type": "code",
      "source": [
        "import pandas as pd\n",
        "\n",
        "df = pd.read_csv('sample_data/california_housing_train.csv')\n",
        "selection = df[(df['population'] > 0) & (df['population'] < 501)]\n",
        "max = selection['median_house_value'].max()\n",
        "min = selection['median_house_value'].min()\n",
        "average = selection['median_house_value'].mean()\n",
        "median = selection['median_house_value'].median()\n",
        "\n",
        "print('max:', max)\n",
        "print('min:', min)\n",
        "print('average:', average)\n",
        "print('median:', median)\n"
      ],
      "metadata": {
        "colab": {
          "base_uri": "https://localhost:8080/"
        },
        "id": "5tUUd5vLYsme",
        "outputId": "09095cf5-be2d-46b3-8c71-77dbd1c174d3"
      },
      "execution_count": 23,
      "outputs": [
        {
          "output_type": "stream",
          "name": "stdout",
          "text": [
            "max: 500001.0\n",
            "min: 14999.0\n",
            "average: 206799.95140186916\n",
            "median: 169500.0\n"
          ]
        }
      ]
    },
    {
      "cell_type": "code",
      "source": [
        "import pandas as pd\n",
        "\n",
        "df = pd.read_csv('sample_data/california_housing_train.csv')\n",
        "min_zone = df['population'].min()\n",
        "df[df['population'] == min_zone]['households'].max()"
      ],
      "metadata": {
        "colab": {
          "base_uri": "https://localhost:8080/"
        },
        "id": "nUKBH1iweWOs",
        "outputId": "d1e0b250-1954-45ca-e955-a8f5249651fa"
      },
      "execution_count": 24,
      "outputs": [
        {
          "output_type": "execute_result",
          "data": {
            "text/plain": [
              "4.0"
            ]
          },
          "metadata": {},
          "execution_count": 24
        }
      ]
    }
  ],
  "metadata": {
    "colab": {
      "name": "Добро пожаловать в Colaboratory!",
      "provenance": [],
      "include_colab_link": true
    },
    "kernelspec": {
      "display_name": "Python 3",
      "name": "python3"
    }
  },
  "nbformat": 4,
  "nbformat_minor": 0
}