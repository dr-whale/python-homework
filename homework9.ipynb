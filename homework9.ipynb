{
  "cells": [
    {
      "cell_type": "markdown",
      "metadata": {
        "id": "view-in-github",
        "colab_type": "text"
      },
      "source": [
        "<a href=\"https://colab.research.google.com/github/dr-whale/python-homework/blob/master/homework9.ipynb\" target=\"_parent\"><img src=\"https://colab.research.google.com/assets/colab-badge.svg\" alt=\"Open In Colab\"/></a>"
      ]
    },
    {
      "cell_type": "code",
      "source": [
        "import pandas as pd\n",
        "\n",
        "df = pd.read_csv('sample_data/california_housing_train.csv')\n",
        "df2 = df[(df['population'] > 0) & (df['population'] < 501)]\n",
        "max = df2['median_house_value'].max()\n",
        "min = df2['median_house_value'].min()\n",
        "average = df[(df['population'] > 0) & (df['population'] < 501)]['median_house_value'].mean()\n",
        "median = df2['median_house_value'].median()\n",
        "\n",
        "print('max:', max)\n",
        "print('min:', min)\n",
        "print('average:', average)\n",
        "print('median:', median)\n"
      ],
      "metadata": {
        "id": "5tUUd5vLYsme",
        "outputId": "e95c11e9-e402-4e6e-c988-86a0e5907641",
        "colab": {
          "base_uri": "https://localhost:8080/"
        }
      },
      "execution_count": 19,
      "outputs": [
        {
          "output_type": "stream",
          "name": "stdout",
          "text": [
            "max: 500001.0\n",
            "min: 14999.0\n",
            "average: 206799.95140186916\n",
            "median: 169500.0\n"
          ]
        }
      ]
    },
    {
      "cell_type": "code",
      "source": [],
      "metadata": {
        "id": "nUKBH1iweWOs"
      },
      "execution_count": null,
      "outputs": []
    }
  ],
  "metadata": {
    "colab": {
      "name": "Добро пожаловать в Colaboratory!",
      "provenance": [],
      "include_colab_link": true
    },
    "kernelspec": {
      "display_name": "Python 3",
      "name": "python3"
    }
  },
  "nbformat": 4,
  "nbformat_minor": 0
}